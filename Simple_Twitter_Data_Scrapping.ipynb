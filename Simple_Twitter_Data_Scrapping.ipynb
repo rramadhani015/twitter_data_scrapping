{
  "cells": [
    {
      "cell_type": "markdown",
      "metadata": {
        "id": "ln7DDg4Z5MgW"
      },
      "source": [
        "# \"Datascraping using Twitter\"\n",
        "> \"Scrapping Tweet data using python\"\n"
      ]
    },
    {
      "cell_type": "code",
      "source": [
        "!pip install git+https://github.com/tweepy/tweepy.git\n",
        "!pip install textblob\n",
        "# !pip install pycountry\n",
        "# !pip install langdetect\n",
        "!pip install Sastrawi\n",
        "!pip install swifter\n",
        "!pip install itranslate"
      ],
      "metadata": {
        "id": "tAdXbgtFEr2Y"
      },
      "execution_count": null,
      "outputs": []
    },
    {
      "cell_type": "code",
      "execution_count": null,
      "metadata": {
        "id": "vghls9Y65Mgd"
      },
      "outputs": [],
      "source": [
        "#collapse_show\n",
        "#importing libraries\n",
        "from textblob import TextBlob\n",
        "import sys\n",
        "import tweepy\n",
        "import matplotlib.pyplot as plt\n",
        "import pandas as pd\n",
        "import numpy as np\n",
        "import os\n",
        "import nltk\n",
        "# import pycountry\n",
        "import re\n",
        "import string\n",
        "from wordcloud import WordCloud, STOPWORDS\n",
        "from PIL import Image\n",
        "from nltk.sentiment.vader import SentimentIntensityAnalyzer\n",
        "# from langdetect import detect\n",
        "from nltk.stem import SnowballStemmer\n",
        "nltk.download('vader_lexicon')\n",
        "nltk.download('stopwords') \n",
        "nltk.download('punkt')\n",
        "from nltk.corpus import stopwords \n",
        "from nltk.sentiment.vader import SentimentIntensityAnalyzer\n",
        "from sklearn.feature_extraction.text import CountVectorizer"
      ]
    },
    {
      "cell_type": "markdown",
      "metadata": {
        "id": "zmOY-e075Mgf"
      },
      "source": [
        "To access the Twitter API, we will need 4 things from your Twitter page. These keys are located in your Twitter app settings in the Keys and Access Tokens tab:\n",
        "\n",
        "- consumer key\n",
        "- consumer seceret key\n",
        "- access token key\n",
        "- access token secret key\n",
        "\n",
        "[Detailed info for getting keys](https://www.slickremix.com/docs/how-to-get-api-keys-and-tokens-for-twitter/)"
      ]
    },
    {
      "cell_type": "code",
      "execution_count": null,
      "metadata": {
        "id": "sSF8jbSr5Mgg"
      },
      "outputs": [],
      "source": [
        "#for privacy purposes, these keys are encrypted\n",
        "consumer_key=\"{consumer_key}\"\n",
        "consumer_secret=\"{consumer_secret}\"\n",
        "access_token=\"{access_token}\"\n",
        "access_token_secret=\"{access_token_secret}\"\n",
        "bearer_key=\"{bearer_key}\""
      ]
    },
    {
      "cell_type": "markdown",
      "source": [
        "Use bearer token. We use this token because we use the new twitter API v2."
      ],
      "metadata": {
        "id": "ILJGT94MUtlU"
      }
    },
    {
      "cell_type": "code",
      "execution_count": null,
      "metadata": {
        "id": "pQ26CQRj5Mgh"
      },
      "outputs": [],
      "source": [
        "#define client from tweepy\n",
        "\n",
        "client = tweepy.Client(bearer_token=bearer_key)"
      ]
    },
    {
      "cell_type": "markdown",
      "metadata": {
        "id": "ld8tRgO-5Mgm"
      },
      "source": [
        "One major problem the is being faced is that when we convert a list in data frame, if the tweet text is >50 chars it gets truncated. To solve this issue, we need to set display column width for pandas dataframe to be -1."
      ]
    },
    {
      "cell_type": "code",
      "execution_count": null,
      "metadata": {
        "id": "mzbLuLy05Mgp",
        "colab": {
          "base_uri": "https://localhost:8080/"
        },
        "outputId": "da180729-43d4-43c4-a7ef-8baf7a4363c9"
      },
      "outputs": [
        {
          "output_type": "stream",
          "name": "stderr",
          "text": [
            "/usr/local/lib/python3.7/dist-packages/ipykernel_launcher.py:2: FutureWarning: Passing a negative integer is deprecated in version 1.0 and will not be supported in future version. Instead, use None to not limit the column width.\n",
            "  \n"
          ]
        }
      ],
      "source": [
        "#collapse_show\n",
        "pd.set_option('display.max_colwidth', -1)"
      ]
    },
    {
      "cell_type": "markdown",
      "source": [
        "Get tweet mentioning specific query, it is more like search for specific text in a tweet."
      ],
      "metadata": {
        "id": "qoXU4MVTUgGE"
      }
    },
    {
      "cell_type": "code",
      "source": [
        "from google.colab import drive\n",
        "drive.mount('/content/drive')\n",
        "# drive.mount('/content/drive/csv')"
      ],
      "metadata": {
        "colab": {
          "base_uri": "https://localhost:8080/"
        },
        "id": "HORaNVpnF1eW",
        "outputId": "fe0915ff-8090-4ee4-dd51-aa1ba29c1ed3"
      },
      "execution_count": null,
      "outputs": [
        {
          "output_type": "stream",
          "name": "stdout",
          "text": [
            "Mounted at /content/drive\n"
          ]
        }
      ]
    },
    {
      "cell_type": "code",
      "source": [
        "query = 'ppkm'\n",
        "\n",
        "# Replace the limit=1000 with the maximum number of Tweets you want\n",
        "tweets= tweepy.Paginator(client.search_recent_tweets, query=query,\n",
        "                              tweet_fields=['context_annotations', 'created_at']).flatten(limit=300)\n",
        "tweet_list= [[tweet.created_at, tweet.id, tweet.text] for tweet in tweets]\n",
        "#creating dataframe from tweets list\n",
        "tweets_df1=pd.DataFrame(tweet_list, columns=[\"Date\",\"Tweet_id\",\"Tweet_Text\"])\n",
        "\n",
        "#download twitter dataset\n",
        "# file_name = '/content/drive/MyDrive/Colab Notebooks/dataset_ppkm.csv'\n",
        "# tweets_df.to_csv(file_name, encoding='utf-8', index=False)"
      ],
      "metadata": {
        "id": "C9N24bXHRwZM"
      },
      "execution_count": null,
      "outputs": []
    },
    {
      "cell_type": "code",
      "source": [
        "query = 'ppkm level 2 OR ppkm level dua'\n",
        "\n",
        "# Replace the limit=1000 with the maximum number of Tweets you want\n",
        "tweets= tweepy.Paginator(client.search_recent_tweets, query=query,\n",
        "                              tweet_fields=['context_annotations', 'created_at']).flatten(limit=300)\n",
        "tweet_list= [[tweet.created_at, tweet.id, tweet.text] for tweet in tweets]\n",
        "#creating dataframe from tweets list\n",
        "tweets_df2=pd.DataFrame(tweet_list, columns=[\"Date\",\"Tweet_id\",\"Tweet_Text\"])\n",
        "\n",
        "#download twitter dataset\n",
        "# file_name = '/content/drive/MyDrive/Colab Notebooks/dataset_lvl2.csv'\n",
        "# tweets_df.to_csv(file_name, encoding='utf-8', index=False)"
      ],
      "metadata": {
        "id": "LSlAkdPyxYrO"
      },
      "execution_count": null,
      "outputs": []
    },
    {
      "cell_type": "code",
      "source": [
        "query = 'ppkm level 3 OR ppkm level tiga'\n",
        "\n",
        "# Replace the limit=1000 with the maximum number of Tweets you want\n",
        "tweets= tweepy.Paginator(client.search_recent_tweets, query=query,\n",
        "                              tweet_fields=['context_annotations', 'created_at']).flatten(limit=300)\n",
        "tweet_list= [[tweet.created_at, tweet.id, tweet.text] for tweet in tweets]\n",
        "#creating dataframe from tweets list\n",
        "tweets_df3=pd.DataFrame(tweet_list, columns=[\"Date\",\"Tweet_id\",\"Tweet_Text\"])\n",
        "\n",
        "#download twitter dataset\n",
        "# file_name = '/content/drive/MyDrive/Colab Notebooks/dataset_lvl3.csv'\n",
        "# tweets_df.to_csv(file_name, encoding='utf-8', index=False)"
      ],
      "metadata": {
        "id": "cAo7UXUYxZS_"
      },
      "execution_count": null,
      "outputs": []
    },
    {
      "cell_type": "code",
      "source": [
        "query = 'ppkm level 4 OR ppkm level empat'\n",
        "\n",
        "# Replace the limit=1000 with the maximum number of Tweets you want\n",
        "tweets= tweepy.Paginator(client.search_recent_tweets, query=query,\n",
        "                              tweet_fields=['context_annotations', 'created_at']).flatten(limit=300)\n",
        "tweet_list= [[tweet.created_at, tweet.id, tweet.text] for tweet in tweets]\n",
        "#creating dataframe from tweets list\n",
        "tweets_df4=pd.DataFrame(tweet_list, columns=[\"Date\",\"Tweet_id\",\"Tweet_Text\"])\n",
        "\n",
        "#combine df\n",
        "tweets_df = pd.concat([tweets_df1, tweets_df2,tweets_df3,tweets_df4])\n",
        "\n",
        "#download twitter dataset\n",
        "# file_name = '/content/drive/MyDrive/Colab Notebooks/csv/dataset_ppkm.csv'\n",
        "file_name = 'dataset_ppkm.csv'\n",
        "tweets_df.to_csv(file_name, encoding='utf-8', index=False)"
      ],
      "metadata": {
        "id": "LUa7udrixZ-s"
      },
      "execution_count": null,
      "outputs": []
    },
    {
      "cell_type": "code",
      "source": [
        "tweets_df.shape"
      ],
      "metadata": {
        "id": "iysSkI_FzY6w",
        "outputId": "5d358d1c-2b81-4367-e7d4-5689a579dcc2",
        "colab": {
          "base_uri": "https://localhost:8080/"
        }
      },
      "execution_count": null,
      "outputs": [
        {
          "output_type": "execute_result",
          "data": {
            "text/plain": [
              "(1100, 3)"
            ]
          },
          "metadata": {},
          "execution_count": 51
        }
      ]
    },
    {
      "cell_type": "code",
      "source": [
        "# case folding\n",
        "tweets_df['Tweet_Text'] = tweets_df['Tweet_Text'].str.lower()\n",
        "tweets_df.head"
      ],
      "metadata": {
        "colab": {
          "base_uri": "https://localhost:8080/"
        },
        "id": "jjkzgiQimJdL",
        "outputId": "44b674ae-498e-4c50-b4da-901e3c3c0de5"
      },
      "execution_count": null,
      "outputs": [
        {
          "output_type": "execute_result",
          "data": {
            "text/plain": [
              "<bound method NDFrame.head of                         Date  ...  Tweet_Lang\n",
              "0  2022-03-03 15:35:34+00:00  ...  None      \n",
              "1  2022-03-03 15:35:30+00:00  ...  None      \n",
              "2  2022-03-03 15:34:23+00:00  ...  None      \n",
              "3  2022-03-03 15:34:10+00:00  ...  None      \n",
              "4  2022-03-03 15:31:20+00:00  ...  None      \n",
              "..                       ...  ...   ...      \n",
              "95 2022-03-03 13:26:04+00:00  ...  None      \n",
              "96 2022-03-03 13:24:52+00:00  ...  None      \n",
              "97 2022-03-03 13:24:07+00:00  ...  None      \n",
              "98 2022-03-03 13:24:04+00:00  ...  None      \n",
              "99 2022-03-03 13:21:39+00:00  ...  None      \n",
              "\n",
              "[100 rows x 4 columns]>"
            ]
          },
          "metadata": {},
          "execution_count": 7
        }
      ]
    },
    {
      "cell_type": "code",
      "source": [
        "# cleaning text\n",
        "\n",
        "def remove_tweet_special(text):\n",
        "    # remove tab, new line, ans back slice\n",
        "    text = text.replace('\\\\t',\" \").replace('\\\\n',\" \").replace('\\\\u',\" \").replace('\\\\',\"\")\n",
        "    # remove non ASCII (emoticon, chinese word, .etc)\n",
        "    text = text.encode('ascii', 'replace').decode('ascii')\n",
        "    # remove mention, link, hashtag\n",
        "    text = ' '.join(replace.sub(\"([@#][A-Za-z0-9]+)|(\\w+:\\/\\/\\S+)\",\" \", text).split())\n",
        "    # remove incomplete URL\n",
        "    return text.replace(\"http://\", \" \").replace(\"https://\", \" \")\n",
        "                \n",
        "tweets_df['Tweet_Text'] = tweets_df['Tweet_Text'].apply(remove_tweet_special)\n",
        "\n",
        "#remove number\n",
        "def remove_number(text):\n",
        "    return  re.sub(r\"\\d+\", \"\", text)\n",
        "\n",
        "tweets_df['Tweet_Text'] = tweets_df['Tweet_Text'].apply(remove_number)\n",
        "\n",
        "#remove punctuation\n",
        "def remove_punctuation(text):\n",
        "    return text.translate(str.maketrans(\"\",\"\",string.punctuation))\n",
        "\n",
        "tweets_df['Tweet_Text'] = tweets_df['Tweet_Text'].apply(remove_punctuation)\n",
        "\n",
        "#remove whitespace leading & trailing\n",
        "def remove_whitespace_LT(text):\n",
        "    return text.strip()\n",
        "\n",
        "tweets_df['Tweet_Text'] = tweets_df['Tweet_Text'].apply(remove_whitespace_LT)\n",
        "\n",
        "#remove multiple whitespace into single whitespace\n",
        "def remove_whitespace_multiple(text):\n",
        "    return re.sub('\\s+',' ',text)\n",
        "\n",
        "tweets_df['Tweet_Text'] = tweets_df['Tweet_Text'].apply(remove_whitespace_multiple)\n",
        "\n",
        "# remove single char\n",
        "def remove_singl_char(text):\n",
        "    return re.sub(r\"\\b[a-zA-Z]\\b\", \"\", text)\n",
        "\n",
        "tweets_df['Tweet_Text'] = tweets_df['Tweet_Text'].apply(remove_singl_char)\n",
        "\n",
        "tweets_df['Tweet_Text']"
      ],
      "metadata": {
        "colab": {
          "base_uri": "https://localhost:8080/"
        },
        "id": "dRdOTgtYWjFA",
        "outputId": "0586fd4a-d114-4970-b758-09b6c2a6dd38"
      },
      "execution_count": null,
      "outputs": [
        {
          "output_type": "execute_result",
          "data": {
            "text/plain": [
              "0     rt                                                                                                                                             \n",
              "1     dah tutup warungnya lagi ppkm                                                                                                                  \n",
              "2     demi keselamatan masyarakat pemerintah kembali terapkan ppkm untuk menekan penyebaran covid varian omicron prokes ikhtiar bersama              \n",
              "3     rt sridianava isi chat grup para emak pusing gas bbm sembako naik pusing migor kedelai tahu tempe langka pusing anak sekolah onlin             \n",
              "4     hafalan doa dan dzikir setelah shalat wkwkwkw tadinya mau sama praktek shalat jenazah alhamdulilah nya gajadi karna ppkm lg                    \n",
              "                                                                 ...                                                                                 \n",
              "95    wkwk ok melayu gak usah dibahas lagi wkwk walah sehat ya lu dan semoga orang rumah cepet sembuh alhamdulillah baik disini walau ppkm lev disini\n",
              "96    giliran puasa mau lebaran tiba ppkm                                                                                                            \n",
              "97    daerah di sumut menerapkan ppkm level mana saja                                                                                                \n",
              "98    kegiatan ppkm mikro di wilayah hukum polresoku                                                                                                 \n",
              "99    status ppkm di kota blitar naik ke level pada paken ini                                                                                        \n",
              "Name: Tweet_Text, Length: 100, dtype: object"
            ]
          },
          "metadata": {},
          "execution_count": 8
        }
      ]
    },
    {
      "cell_type": "code",
      "source": [
        "# translate to english before tokenize\n",
        "from itranslate import itranslate as itrans  \n",
        "\n",
        "tweetsa = []\n",
        "for index, row in tweets_df.iterrows():\n",
        "  tweetsa.append(itrans(row['Tweet_Text'],to_lang='en'))\n",
        "\n",
        "tweets_df['Tweet_Text_En']=tweetsa\n",
        "tweets_df['Tweet_Text_En']"
      ],
      "metadata": {
        "colab": {
          "base_uri": "https://localhost:8080/"
        },
        "id": "0WeNiLUuUBkT",
        "outputId": "6c5fdab8-d7f3-44bd-e468-e7dca890a304"
      },
      "execution_count": null,
      "outputs": [
        {
          "output_type": "execute_result",
          "data": {
            "text/plain": [
              "0     rt                                                                                                                                                                                 \n",
              "1     the stall closed again PPKM                                                                                                                                                        \n",
              "2     For the sake of the safety of the government, the government again implemented the PPKM to suppress the spread of the Covid variant of the Omicron Process of the Joint Brotherhood\n",
              "3     RT Sridianava Fill Chat Groups Mother Dizziness Gas Fuel Sembako Riding Dizziness Migor Soybean Tofu Tempe Rare Dizziness School Children Online                                   \n",
              "4     Memorizing Prayer and Dhikr After Prayers Wkwkwkw Want to Practice Prayers Thank God Alhamdulilah Karna Karna PPKM LG                                                              \n",
              "                                                              ...                                                                                                                        \n",
              "95    wkwk ok malay doesn't need to be discussed again wkwk he is healthy ya lu and may the house get well recovered Alhamdulillah good here though ppkm lev here                        \n",
              "96    the turn of fasting wants Lebaran arrives PPKM                                                                                                                                     \n",
              "97    the area in North Sumatra implements any level PPKM                                                                                                                                \n",
              "98    Micro PPKM activities in the legal region of Polresoku                                                                                                                             \n",
              "99    The status of PPKM in the city of Blitar rose to level on this pack                                                                                                                \n",
              "Name: Tweet_Text_En, Length: 100, dtype: object"
            ]
          },
          "metadata": {},
          "execution_count": 9
        }
      ]
    },
    {
      "cell_type": "code",
      "source": [
        "# tokenizing bahasa\n",
        "import string \n",
        "import re #regex library\n",
        "\n",
        "# import word_tokenize & FreqDist from NLTK\n",
        "from nltk.tokenize import word_tokenize \n",
        "from nltk.probability import FreqDist\n",
        "\n",
        "# ------ Tokenizing ---------\n",
        "\n",
        "# NLTK word rokenize \n",
        "def word_tokenize_wrapper(text):\n",
        "    return word_tokenize(text)\n",
        "\n",
        "tweets_df['Tweet_Tokens'] = tweets_df['Tweet_Text'].apply(word_tokenize_wrapper)\n",
        "\n",
        "print('Tokenizing Result : \\n') \n",
        "print(tweets_df['Tweet_Tokens'].head())\n",
        "print('\\n\\n\\n')"
      ],
      "metadata": {
        "colab": {
          "base_uri": "https://localhost:8080/"
        },
        "id": "q8at_UzTmuqC",
        "outputId": "7d4069e1-eef2-4fd0-9f54-8df7ca9d1c80"
      },
      "execution_count": null,
      "outputs": [
        {
          "output_type": "stream",
          "name": "stdout",
          "text": [
            "Tokenizing Result : \n",
            "\n",
            "0    [rt]                                                                                                                                                     \n",
            "1    [dah, tutup, warungnya, lagi, ppkm]                                                                                                                      \n",
            "2    [demi, keselamatan, masyarakat, pemerintah, kembali, terapkan, ppkm, untuk, menekan, penyebaran, covid, varian, omicron, prokes, ikhtiar, bersama]       \n",
            "3    [rt, sridianava, isi, chat, grup, para, emak, pusing, gas, bbm, sembako, naik, pusing, migor, kedelai, tahu, tempe, langka, pusing, anak, sekolah, onlin]\n",
            "4    [hafalan, doa, dan, dzikir, setelah, shalat, wkwkwkw, tadinya, mau, sama, praktek, shalat, jenazah, alhamdulilah, nya, gajadi, karna, ppkm, lg]          \n",
            "Name: Tweet_Tokens, dtype: object\n",
            "\n",
            "\n",
            "\n",
            "\n"
          ]
        }
      ]
    },
    {
      "cell_type": "code",
      "source": [
        "# tokenizing english, we call this dataset_en\n",
        "import string \n",
        "import re #regex library\n",
        "\n",
        "# import word_tokenize & FreqDist from NLTK\n",
        "from nltk.tokenize import word_tokenize \n",
        "from nltk.probability import FreqDist\n",
        "\n",
        "# ------ Tokenizing ---------\n",
        "\n",
        "# NLTK word rokenize \n",
        "def word_tokenize_wrapper(text):\n",
        "    return word_tokenize(text)\n",
        "\n",
        "tweets_df['Tweet_Tokens_en'] = tweets_df['Tweet_Text_En'].apply(word_tokenize_wrapper)\n",
        "\n",
        "print('Tokenizing Result : \\n') \n",
        "print(tweets_df['Tweet_Tokens_en'].head())\n",
        "print('\\n\\n\\n')"
      ],
      "metadata": {
        "colab": {
          "base_uri": "https://localhost:8080/"
        },
        "id": "p3yZx2GOb5cC",
        "outputId": "8484f747-95f6-4677-f3e4-9ecd0affbcce"
      },
      "execution_count": null,
      "outputs": [
        {
          "output_type": "stream",
          "name": "stdout",
          "text": [
            "Tokenizing Result : \n",
            "\n",
            "0    [rt]                                                                                                                                                                                                                 \n",
            "1    [the, stall, closed, again, PPKM]                                                                                                                                                                                    \n",
            "2    [For, the, sake, of, the, safety, of, the, government, ,, the, government, again, implemented, the, PPKM, to, suppress, the, spread, of, the, Covid, variant, of, the, Omicron, Process, of, the, Joint, Brotherhood]\n",
            "3    [RT, Sridianava, Fill, Chat, Groups, Mother, Dizziness, Gas, Fuel, Sembako, Riding, Dizziness, Migor, Soybean, Tofu, Tempe, Rare, Dizziness, School, Children, Online]                                               \n",
            "4    [Memorizing, Prayer, and, Dhikr, After, Prayers, Wkwkwkw, Want, to, Practice, Prayers, Thank, God, Alhamdulilah, Karna, Karna, PPKM, LG]                                                                             \n",
            "Name: Tweet_Tokens_en, dtype: object\n",
            "\n",
            "\n",
            "\n",
            "\n"
          ]
        }
      ]
    },
    {
      "cell_type": "code",
      "source": [
        "# translate to english after tokenize, we call this dataset_id_en\n",
        "\n",
        "tweetsa = []\n",
        "for index, row in tweets_df.iterrows():\n",
        "  tweetsa.append(itrans(row['Tweet_Tokens'],to_lang='en'))\n",
        "\n",
        "tweets_df['Tweet_Tokens_Id_En']=tweetsa\n",
        "tweets_df['Tweet_Tokens_Id_En']"
      ],
      "metadata": {
        "colab": {
          "base_uri": "https://localhost:8080/"
        },
        "id": "VW8jeZ6d8QNz",
        "outputId": "be67adf2-509a-4281-ec49-939d25a34387"
      },
      "execution_count": null,
      "outputs": [
        {
          "output_type": "execute_result",
          "data": {
            "text/plain": [
              "0     ['rt']                                                                                                                                                                                                                                 \n",
              "1     ['dah', 'closed', 'stall', 'again', 'ppkm']                                                                                                                                                                                            \n",
              "2     ['for the sake of', 'safety', 'community', 'government', 'back', 'Apply', 'PPKM', 'for', 'press',' spread ',' Covid ',' variant ',' Omicron ',' Prokes', 'Ikhtiar', 'Together']                                                        \n",
              "3     ['RT', 'Sridianava', 'Fill', 'Chat', 'Group', 'Para', 'Emak', 'Dizziness',' Gas', 'BBM', 'Sembako', 'Rise', ' dizziness', 'Migor', 'soybean', 'know', 'tempe', 'rare', 'dizziness',' child ',' school ',' online ']                    \n",
              "4     ['memorization', 'prayer', 'and', 'dhikr', 'after', 'prayer', 'wkwkwkw', 'before', 'want', 'same', 'practice', 'prayer', ' The body ',' thank God ',' he ',' Gajadi ',' Karna ',' PPKM ',' LG ']                                       \n",
              "                                                                                                    ...                                                                                                                                      \n",
              "95    ['wkwk', 'ok', 'Malay', 'no', 'need', 'discussed', 'again', 'wkwk', 'wake', 'healthy', 'yes',' Lu ',' And ',' hope ',' people ',' home ',' fast ',' recovered ',' Alhamdulillah ',' Good ',' HERE ',' DAY ',' PPKM ',' LEV ',' HERE ' ]\n",
              "96    ['turn', 'fasting', 'want', 'Lebaran', 'arrived', 'PPKM']                                                                                                                                                                              \n",
              "97    ['area', 'in', 'North Sumatra', 'implement', 'PPKM', 'Level', 'Mana', 'just']                                                                                                                                                          \n",
              "98    ['Activities', 'PPKM', 'Micro', 'in', 'Region', 'Law', 'Polresoku']                                                                                                                                                                    \n",
              "99    ['status', 'PPKM', 'on', 'City', 'Blitar', 'go up', 'to', 'level', 'on', 'Paken', 'this']                                                                                                                                              \n",
              "Name: Tweet_Tokens_Id_En, Length: 100, dtype: object"
            ]
          },
          "metadata": {},
          "execution_count": 12
        }
      ]
    },
    {
      "cell_type": "code",
      "source": [
        "# NLTK calc frequency distribution - dataset_id_en\n",
        "def freqDist_wrapper(text):\n",
        "    return FreqDist(text)\n",
        "\n",
        "tweets_df['Tweet_fdist_id_en'] = tweets_df['Tweet_Tokens_Id_En'].apply(freqDist_wrapper)\n",
        "\n",
        "print('Frequency Tokens : \\n') \n",
        "print(tweets_df['Tweet_fdist_id_en'].head().apply(lambda x : x.most_common()))"
      ],
      "metadata": {
        "colab": {
          "base_uri": "https://localhost:8080/"
        },
        "id": "hFOkfw0Pcvql",
        "outputId": "6aa91bce-66a7-4c64-b29d-cd1f9647af47"
      },
      "execution_count": null,
      "outputs": [
        {
          "output_type": "stream",
          "name": "stdout",
          "text": [
            "Frequency Tokens : \n",
            "\n",
            "0    [(', 2), ([, 1), (r, 1), (t, 1), (], 1)]                                                                                                                                                                                                                                                                               \n",
            "1    [(', 10), (a, 4), (,, 4), ( , 4), (l, 3), (d, 2), (s, 2), (p, 2), ([, 1), (h, 1), (c, 1), (o, 1), (e, 1), (t, 1), (g, 1), (i, 1), (n, 1), (k, 1), (m, 1), (], 1)]                                                                                                                                                      \n",
            "2    [(', 32), ( , 22), (,, 15), (r, 10), (e, 10), (o, 9), (t, 7), (a, 7), (s, 6), (n, 5), (i, 5), (f, 4), (k, 4), (m, 4), (p, 4), (h, 3), (y, 3), (c, 3), (v, 3), (P, 3), (g, 2), (d, 2), ([, 1), (u, 1), (b, 1), (A, 1), (l, 1), (K, 1), (M, 1), (C, 1), (O, 1), (I, 1), (T, 1), (], 1)]                                  \n",
            "3    [(', 44), ( , 25), (,, 21), (i, 13), (a, 11), (e, 10), (s, 10), (n, 8), (o, 8), (r, 6), (z, 6), (l, 5), (d, 4), (h, 3), (m, 3), (k, 3), (R, 2), (S, 2), (t, 2), (G, 2), (p, 2), (B, 2), (M, 2), (b, 2), (c, 2), ([, 1), (T, 1), (v, 1), (F, 1), (C, 1), (u, 1), (P, 1), (E, 1), (D, 1), (g, 1), (y, 1), (w, 1), (], 1)]\n",
            "4    [(', 38), ( , 28), (,, 18), (a, 14), (r, 12), (e, 11), (o, 5), (i, 5), (t, 5), (n, 5), (d, 5), (k, 5), (w, 5), (p, 4), (y, 4), (h, 4), (m, 3), (G, 3), (f, 2), (b, 2), (c, 2), (K, 2), (P, 2), ([, 1), (z, 1), (s, 1), (T, 1), (j, 1), (M, 1), (L, 1), (], 1)]                                                         \n",
            "Name: Tweet_fdist_id_en, dtype: object\n"
          ]
        }
      ]
    },
    {
      "cell_type": "code",
      "source": [
        "# NLTK calc frequency distribution - dataset_en\n",
        "def freqDist_wrapper(text):\n",
        "    return FreqDist(text)\n",
        "\n",
        "tweets_df['Tweet_fdist_en'] = tweets_df['Tweet_Text_En'].apply(freqDist_wrapper)\n",
        "\n",
        "print('Frequency Tokens : \\n') \n",
        "print(tweets_df['Tweet_fdist_en'].head().apply(lambda x : x.most_common()))"
      ],
      "metadata": {
        "id": "7tOxHoDonqA_"
      },
      "execution_count": null,
      "outputs": []
    },
    {
      "cell_type": "code",
      "source": [
        "# NLTK Stopword bahasa, we call the rest dataset_id\n",
        "from nltk.corpus import stopwords\n",
        "\n",
        "# ----------------------- get stopword from NLTK stopword -------------------------------\n",
        "# get stopword indonesia\n",
        "list_stopwords = stopwords.words('indonesian')\n",
        "\n",
        "# ---------------------------- manualy add stopword  ------------------------------------\n",
        "# append additional stopword\n",
        "list_stopwords.extend([\"yg\", \"dg\", \"rt\", \"dgn\", \"ny\", \"d\", 'klo', \n",
        "                       'kalo', 'amp', 'biar', 'bikin', 'bilang', \n",
        "                       'gak', 'ga', 'krn', 'nya', 'nih', 'sih', \n",
        "                       'si', 'tau', 'tdk', 'tuh', 'utk', 'ya', \n",
        "                       'jd', 'jgn', 'sdh', 'aja', 'n', 't', \n",
        "                       'nyg', 'hehe', 'pen', 'u', 'nan', 'loh', 'rt',\n",
        "                       '&amp', 'yah'])\n",
        "\n",
        "# ----------------------- add stopword from txt file ------------------------------------\n",
        "# read txt stopword using pandas\n",
        "from google.colab import drive\n",
        "drive.mount('/content/drive')\n",
        "txt_stopword = pd.read_csv('/content/drive/MyDrive/Colab Notebooks/csv/stopwords.txt', names= [\"stopwords\"], header = None)\n",
        "#df1 = df1[['id']]\n",
        "#df1\n",
        "\n",
        "#txt_stopword = pd.read_csv(\"stopwords.txt\", names= [\"stopwords\"], header = None)\n",
        "\n",
        "# convert stopword string to list & append additional stopword\n",
        "list_stopwords.extend(txt_stopword[\"stopwords\"][0].split(' '))\n",
        "\n",
        "# ---------------------------------------------------------------------------------------\n",
        "\n",
        "# convert list to dictionary\n",
        "list_stopwords = set(list_stopwords)\n",
        "\n",
        "#remove stopword pada list token\n",
        "def stopwords_removal(words):\n",
        "    return [word for word in words if word not in list_stopwords]\n",
        "\n",
        "tweets_df['Tweet_WSW_id'] = tweets_df['Tweet_Tokens'].apply(stopwords_removal) \n",
        "\n",
        "print(tweets_df['Tweet_WSW_id'].head())"
      ],
      "metadata": {
        "id": "UOOC4SVNoVAE"
      },
      "execution_count": null,
      "outputs": []
    },
    {
      "cell_type": "code",
      "source": [
        "#normalization\n",
        "normalizad_word = pd.read_excel(\"/content/drive/MyDrive/Colab Notebooks/csv/normalization.xlsx\")\n",
        "\n",
        "normalizad_word_dict = {}\n",
        "\n",
        "for index, row in normalizad_word.iterrows():\n",
        "    if row[0] not in normalizad_word_dict:\n",
        "        normalizad_word_dict[row[0]] = row[1] \n",
        "\n",
        "def normalized_term(document):\n",
        "    return [normalizad_word_dict[term] if term in normalizad_word_dict else term for term in document]\n",
        "\n",
        "tweets_df['tweet_normalized_id'] = tweets_df['Tweet_WSW_id'].apply(normalized_term)\n",
        "\n",
        "tweets_df['tweet_normalized_id'].head(10)"
      ],
      "metadata": {
        "id": "XsTb_yBDtox8"
      },
      "execution_count": null,
      "outputs": []
    },
    {
      "cell_type": "code",
      "source": [
        "# STEMMING for bahasa\n",
        "# import Sastrawi package\n",
        "from Sastrawi.Stemmer.StemmerFactory import StemmerFactory\n",
        "import swifter\n",
        "\n",
        "# create stemmer\n",
        "factory = StemmerFactory()\n",
        "stemmer = factory.create_stemmer()\n",
        "\n",
        "# stemmed\n",
        "def stemmed_wrapper(term):\n",
        "    return stemmer.stem(term)\n",
        "\n",
        "term_dict = {}\n",
        "\n",
        "for document in tweets_df['tweet_normalized_id']:\n",
        "    for term in document:\n",
        "        if term not in term_dict:\n",
        "            term_dict[term] = ' '\n",
        "            \n",
        "print(len(term_dict))\n",
        "print(\"------------------------\")\n",
        "\n",
        "for term in term_dict:\n",
        "    term_dict[term] = stemmed_wrapper(term)\n",
        "    print(term,\":\" ,term_dict[term])\n",
        "    \n",
        "print(term_dict)\n",
        "print(\"------------------------\")\n",
        "\n",
        "\n",
        "# apply stemmed term to dataframe\n",
        "def get_stemmed_term(document):\n",
        "    return [term_dict[term] for term in document]\n",
        "\n",
        "tweets_df['tweet_stemmed_id'] = tweets_df['tweet_normalized_id'].swifter.apply(get_stemmed_term)\n",
        "print(tweets_df['tweet_stemmed_id'])"
      ],
      "metadata": {
        "id": "S5AAAw10tXzR"
      },
      "execution_count": null,
      "outputs": []
    },
    {
      "cell_type": "code",
      "source": [
        "# translate to english after formalized\n",
        "\n",
        "tweetsa = []\n",
        "for index, row in tweets_df.iterrows():\n",
        "  tweetsa.append(itrans(row['tweet_stemmed_id'],to_lang='en'))\n",
        "\n",
        "tweets_df['tweet_id']=tweetsa\n",
        "tweets_df['tweet_id']"
      ],
      "metadata": {
        "id": "ALz1WGpu9Nrj"
      },
      "execution_count": null,
      "outputs": []
    },
    {
      "cell_type": "code",
      "source": [
        "#download preprocessed dataset_id\n",
        "# file_name = '/content/drive/MyDrive/Colab Notebooks/csv/dataset_id_preprocess_PPKM.csv'\n",
        "file_name = 'dataset_id_preprocess_PPKM.csv'\n",
        "tweets_df.to_csv(file_name, encoding='utf-8', index=False)"
      ],
      "metadata": {
        "id": "SUlJ3DQu3E4r"
      },
      "execution_count": null,
      "outputs": []
    },
    {
      "cell_type": "code",
      "source": [
        "#download preprocessed dataset_id_en\n",
        "# file_name = '/content/drive/MyDrive/Colab Notebooks/csv/dataset_id_en_preprocess_PPKM.csv'\n",
        "file_name = 'dataset_id_en_preprocess_PPKM.csv'\n",
        "tweets_df.to_csv(file_name, encoding='utf-8', index=False)"
      ],
      "metadata": {
        "id": "ZeiJ7mNoe3WR"
      },
      "execution_count": null,
      "outputs": []
    },
    {
      "cell_type": "code",
      "source": [
        "#download preprocessed dataset_en\n",
        "# file_name = '/content/drive/MyDrive/Colab Notebooks/csv/dataset_en_preprocess_PPKM.csv'\n",
        "file_name = 'dataset_en_preprocess_PPKM.csv'\n",
        "tweets_df.to_csv(file_name, encoding='utf-8', index=False)"
      ],
      "metadata": {
        "id": "GWu703L5e5FJ"
      },
      "execution_count": null,
      "outputs": []
    },
    {
      "cell_type": "code",
      "source": [
        "#textblob on dataset_id\n"
      ],
      "metadata": {
        "id": "2JUB0bxTjj1L"
      },
      "execution_count": null,
      "outputs": []
    },
    {
      "cell_type": "code",
      "source": [
        "#textblob on dataset_id_en\n",
        "from textblob import TextBlob\n",
        "\n",
        "for index, row in tweets_df.iterrows():\n",
        "  tweetsa.append(itrans(row['Tweet_Token_Id_en'],to_lang='en'))\n",
        "\n",
        "tweets_df['Tweet_Token_En']=tweetsa\n",
        "tweets_df['Tweet_Token_En']"
      ],
      "metadata": {
        "id": "ZEsSUnQTjjDQ"
      },
      "execution_count": null,
      "outputs": []
    },
    {
      "cell_type": "code",
      "source": [
        "#textblob on dataset_en\n",
        "# def getSubjectivity(text):\n",
        "#    return TextBlob(text).sentiment.subjectivity\n",
        "\n",
        "#Create a function to get the polarity\n",
        "# def getPolarity(text):\n",
        "#    return TextBlob(text).sentiment.polarity\n",
        "\n",
        "def getAnalysis(score):\n",
        "  if score < 0:\n",
        "    return 'Negative'\n",
        "  elif score == 0:\n",
        "    return 'Neutral'\n",
        "  else:\n",
        "    return 'Positive'\n",
        " \n",
        "for index, row in tweets_df.iterrows():\n",
        "  tweets_df['TextBlob_Subjectivity'] = TextBlob(row['Tweet_Text_En']).sentiment.subjectivity\n",
        "  tweets_df['TextBlob_Polarity'] = TextBlob(row['Tweet_Text_En']).sentiment.polarity\n",
        "  if TextBlob(row['Tweet_Text_En']).sentiment.polarity < 0:\n",
        "    score = 'Negative'\n",
        "  elif TextBlob(row['Tweet_Text_En']).sentiment.polarity == 0:\n",
        "    score = 'Neutral'\n",
        "  else:\n",
        "    score = 'Positive'\n",
        "  tweets_df['TextBlob_Analysis'] = score\n",
        "\n",
        "#df to csv on result\n",
        "# file_name = '/content/drive/MyDrive/Colab Notebooks/csv/dataset_en_analysis_PPKM.csv'\n",
        "file_name = 'dataset_en_analysis_PPKM.csv'\n",
        "tweets_df.to_csv(file_name, encoding='utf-8', index=False)"
      ],
      "metadata": {
        "id": "fh_FIhp0jV9K"
      },
      "execution_count": null,
      "outputs": []
    },
    {
      "cell_type": "code",
      "source": [
        "# vader on dataset_en\n",
        "# from vaderSentiment.vaderSentiment module.\n",
        "from vaderSentiment.vaderSentiment import SentimentIntensityAnalyzer\n",
        "\n",
        "# function to print sentiments\n",
        "# of the sentence.\n",
        "def sentiment_scores(sentence):\n",
        "\n",
        "\t# Create a SentimentIntensityAnalyzer object.\n",
        "\tsid_obj = SentimentIntensityAnalyzer()\n",
        "\n",
        "\t# polarity_scores method of SentimentIntensityAnalyzer\n",
        "\t# object gives a sentiment dictionary.\n",
        "\t# which contains pos, neg, neu, and compound scores.\n",
        "\tsentiment_dict = sid_obj.polarity_scores(sentence)\n",
        "\t\n",
        "\t# decide sentiment as positive, negative and neutral\n",
        "\tif sentiment_dict['compound'] >= 0.05 :\n",
        "\t\tscore = 'Positive'\n",
        "\telif sentiment_dict['compound'] <= - 0.05 :\n",
        "\t\tscore = 'Negative'\n",
        "\telse :\n",
        "\t\tscore = 'Neutral'\n",
        "  tweets_df['Vader_Analysis'] = score\n",
        "  tweets_df['Vader_pos_rate'] = sentiment_dict['pos']\n",
        "  tweets_df['Vader_neu_rate'] = sentiment_dict['neu']\n",
        "  tweets_df['Vader_neg_rate'] = sentiment_dict['neg']\n",
        " \n",
        "for index, row in tweets_df.iterrows():\n",
        "  sentiment_scores(row['Tweet_Text_En'])\n",
        "\n"
      ],
      "metadata": {
        "id": "jiVNYkpUx2E8"
      },
      "execution_count": null,
      "outputs": []
    },
    {
      "cell_type": "markdown",
      "source": [
        "________________________________________________________________________________________________________________________________________________________________________________________________________________________________________________________________________________________________________________________________________________________________________________________________________________________________________________________________________________________________________________________________________________________________________________________________________________________________________________________________________________________________________________________________________________________________________________________________________________\n",
        "\n"
      ],
      "metadata": {
        "id": "mmom52jQw2XX"
      }
    },
    {
      "cell_type": "markdown",
      "source": [
        "________________________________________________________________________________________________________________________________________________________________________________________________________________________________________________________________________________________________________________________________________________________________________________________________________________________________________________________________________________________________________________________________________________________________________________________________________________________________________________________________________________________________________________________________________________________________________________________________________________\n",
        "\n"
      ],
      "metadata": {
        "id": "ntkzDW2Ew_cv"
      }
    },
    {
      "cell_type": "markdown",
      "source": [
        "________________________________________________________________________________________________________________________________________________________________________________________________________________________________________________________________________________________________________________________________________________________________________________________________________________________________________________________________________________________________________________________________________________________________________________________________________________________________________________________________________________________________________________________________________________________________________________________________________________\n",
        "\n"
      ],
      "metadata": {
        "id": "0BlJ_HjBw_Kd"
      }
    },
    {
      "cell_type": "markdown",
      "source": [
        "________________________________________________________________________________________________________________________________________________________________________________________________________________________________________________________________________________________________________________________________________________________________________________________________________________________________________________________________________________________________________________________________________________________________________________________________________________________________________________________________________________________________________________________________________________________________________________________________________________\n",
        "\n"
      ],
      "metadata": {
        "id": "WLXLHIbmw-x8"
      }
    },
    {
      "cell_type": "code",
      "source": [
        "#Sentiment Analysis\n",
        "def percentage(part,whole):\n",
        " return 100 * float(part)/float(whole)\n",
        "keyword = 'lockdown'\n",
        "noOfTweet = 100\n",
        "tweets= tweepy.Paginator(client.search_recent_tweets, query=keyword,\n",
        "                              tweet_fields=['context_annotations', 'created_at']).flatten(limit=noOfTweet)\n",
        "positive = 0\n",
        "negative = 0\n",
        "neutral = 0\n",
        "polarity = 0\n",
        "tweet_list = []\n",
        "neutral_list = []\n",
        "negative_list = []\n",
        "positive_list = []\n",
        "for tweet in tweets:\n",
        "  #print(tweet.text)\n",
        "  tweet_list.append(tweet.text)\n",
        "  analysis = TextBlob(tweet.text)\n",
        "  score = SentimentIntensityAnalyzer().polarity_scores(tweet.text)\n",
        "  neg = score['neg']\n",
        "  neu = score['neu']\n",
        "  pos = score['pos']\n",
        "  comp = score['compound']\n",
        "  polarity += analysis.sentiment.polarity\n",
        "\n",
        "  if neg > pos:\n",
        "    negative_list.append(tweet.text)\n",
        "    negative += 1\n",
        "  elif pos > neg:\n",
        "    positive_list.append(tweet.text)\n",
        "    positive += 1\n",
        "  elif pos == neg:\n",
        "    neutral_list.append(tweet.text)\n",
        "    neutral += 1\n",
        "\n",
        "positive = percentage(positive, noOfTweet)\n",
        "negative = percentage(negative, noOfTweet)\n",
        "neutral = percentage(neutral, noOfTweet)\n",
        "polarity = percentage(polarity, noOfTweet)\n",
        "positive = format(positive, '.1f')\n",
        "negative = format(negative, '.1f')\n",
        "neutral = format(neutral, '.1f')\n",
        "\n"
      ],
      "metadata": {
        "colab": {
          "base_uri": "https://localhost:8080/",
          "height": 380
        },
        "id": "gF4v_93aRpJv",
        "outputId": "a9070431-f8de-424c-c5f9-61a20a75071c"
      },
      "execution_count": null,
      "outputs": [
        {
          "output_type": "error",
          "ename": "TooManyRequests",
          "evalue": "ignored",
          "traceback": [
            "\u001b[0;31m---------------------------------------------------------------------------\u001b[0m",
            "\u001b[0;31mTooManyRequests\u001b[0m                           Traceback (most recent call last)",
            "\u001b[0;32m<ipython-input-75-7ac16c22eb19>\u001b[0m in \u001b[0;36m<module>\u001b[0;34m()\u001b[0m\n\u001b[1;32m     14\u001b[0m \u001b[0mnegative_list\u001b[0m \u001b[0;34m=\u001b[0m \u001b[0;34m[\u001b[0m\u001b[0;34m]\u001b[0m\u001b[0;34m\u001b[0m\u001b[0;34m\u001b[0m\u001b[0m\n\u001b[1;32m     15\u001b[0m \u001b[0mpositive_list\u001b[0m \u001b[0;34m=\u001b[0m \u001b[0;34m[\u001b[0m\u001b[0;34m]\u001b[0m\u001b[0;34m\u001b[0m\u001b[0;34m\u001b[0m\u001b[0m\n\u001b[0;32m---> 16\u001b[0;31m \u001b[0;32mfor\u001b[0m \u001b[0mtweet\u001b[0m \u001b[0;32min\u001b[0m \u001b[0mtweets\u001b[0m\u001b[0;34m:\u001b[0m\u001b[0;34m\u001b[0m\u001b[0;34m\u001b[0m\u001b[0m\n\u001b[0m\u001b[1;32m     17\u001b[0m   \u001b[0;31m#print(tweet.text)\u001b[0m\u001b[0;34m\u001b[0m\u001b[0;34m\u001b[0m\u001b[0;34m\u001b[0m\u001b[0m\n\u001b[1;32m     18\u001b[0m   \u001b[0mtweet_list\u001b[0m\u001b[0;34m.\u001b[0m\u001b[0mappend\u001b[0m\u001b[0;34m(\u001b[0m\u001b[0mtweet\u001b[0m\u001b[0;34m.\u001b[0m\u001b[0mtext\u001b[0m\u001b[0;34m)\u001b[0m\u001b[0;34m\u001b[0m\u001b[0;34m\u001b[0m\u001b[0m\n",
            "\u001b[0;32m/usr/local/lib/python3.7/dist-packages/tweepy/pagination.py\u001b[0m in \u001b[0;36mflatten\u001b[0;34m(self, limit)\u001b[0m\n\u001b[1;32m     47\u001b[0m         \u001b[0mcount\u001b[0m \u001b[0;34m=\u001b[0m \u001b[0;36m0\u001b[0m\u001b[0;34m\u001b[0m\u001b[0;34m\u001b[0m\u001b[0m\n\u001b[1;32m     48\u001b[0m         for response in PaginationIterator(self.method, *self.args,\n\u001b[0;32m---> 49\u001b[0;31m                                            **self.kwargs):\n\u001b[0m\u001b[1;32m     50\u001b[0m             \u001b[0;32mif\u001b[0m \u001b[0mresponse\u001b[0m\u001b[0;34m.\u001b[0m\u001b[0mdata\u001b[0m \u001b[0;32mis\u001b[0m \u001b[0;32mnot\u001b[0m \u001b[0;32mNone\u001b[0m\u001b[0;34m:\u001b[0m\u001b[0;34m\u001b[0m\u001b[0;34m\u001b[0m\u001b[0m\n\u001b[1;32m     51\u001b[0m                 \u001b[0;32mfor\u001b[0m \u001b[0mdata\u001b[0m \u001b[0;32min\u001b[0m \u001b[0mresponse\u001b[0m\u001b[0;34m.\u001b[0m\u001b[0mdata\u001b[0m\u001b[0;34m:\u001b[0m\u001b[0;34m\u001b[0m\u001b[0;34m\u001b[0m\u001b[0m\n",
            "\u001b[0;32m/usr/local/lib/python3.7/dist-packages/tweepy/pagination.py\u001b[0m in \u001b[0;36m__next__\u001b[0;34m(self)\u001b[0m\n\u001b[1;32m     96\u001b[0m             \u001b[0mself\u001b[0m\u001b[0;34m.\u001b[0m\u001b[0mkwargs\u001b[0m\u001b[0;34m[\u001b[0m\u001b[0;34m\"pagination_token\"\u001b[0m\u001b[0;34m]\u001b[0m \u001b[0;34m=\u001b[0m \u001b[0mpagination_token\u001b[0m\u001b[0;34m\u001b[0m\u001b[0;34m\u001b[0m\u001b[0m\n\u001b[1;32m     97\u001b[0m \u001b[0;34m\u001b[0m\u001b[0m\n\u001b[0;32m---> 98\u001b[0;31m         \u001b[0mresponse\u001b[0m \u001b[0;34m=\u001b[0m \u001b[0mself\u001b[0m\u001b[0;34m.\u001b[0m\u001b[0mmethod\u001b[0m\u001b[0;34m(\u001b[0m\u001b[0;34m*\u001b[0m\u001b[0mself\u001b[0m\u001b[0;34m.\u001b[0m\u001b[0margs\u001b[0m\u001b[0;34m,\u001b[0m \u001b[0;34m**\u001b[0m\u001b[0mself\u001b[0m\u001b[0;34m.\u001b[0m\u001b[0mkwargs\u001b[0m\u001b[0;34m)\u001b[0m\u001b[0;34m\u001b[0m\u001b[0;34m\u001b[0m\u001b[0m\n\u001b[0m\u001b[1;32m     99\u001b[0m \u001b[0;34m\u001b[0m\u001b[0m\n\u001b[1;32m    100\u001b[0m         \u001b[0mself\u001b[0m\u001b[0;34m.\u001b[0m\u001b[0mprevious_token\u001b[0m \u001b[0;34m=\u001b[0m \u001b[0mresponse\u001b[0m\u001b[0;34m.\u001b[0m\u001b[0mmeta\u001b[0m\u001b[0;34m.\u001b[0m\u001b[0mget\u001b[0m\u001b[0;34m(\u001b[0m\u001b[0;34m\"previous_token\"\u001b[0m\u001b[0;34m)\u001b[0m\u001b[0;34m\u001b[0m\u001b[0;34m\u001b[0m\u001b[0m\n",
            "\u001b[0;32m/usr/local/lib/python3.7/dist-packages/tweepy/client.py\u001b[0m in \u001b[0;36msearch_recent_tweets\u001b[0;34m(self, query, user_auth, **params)\u001b[0m\n\u001b[1;32m    918\u001b[0m                 \u001b[0;34m\"since_id\"\u001b[0m\u001b[0;34m,\u001b[0m \u001b[0;34m\"sort_order\"\u001b[0m\u001b[0;34m,\u001b[0m \u001b[0;34m\"start_time\"\u001b[0m\u001b[0;34m,\u001b[0m \u001b[0;34m\"tweet.fields\"\u001b[0m\u001b[0;34m,\u001b[0m\u001b[0;34m\u001b[0m\u001b[0;34m\u001b[0m\u001b[0m\n\u001b[1;32m    919\u001b[0m                 \u001b[0;34m\"until_id\"\u001b[0m\u001b[0;34m,\u001b[0m \u001b[0;34m\"user.fields\"\u001b[0m\u001b[0;34m\u001b[0m\u001b[0;34m\u001b[0m\u001b[0m\n\u001b[0;32m--> 920\u001b[0;31m             ), data_type=Tweet, user_auth=user_auth\n\u001b[0m\u001b[1;32m    921\u001b[0m         )\n\u001b[1;32m    922\u001b[0m \u001b[0;34m\u001b[0m\u001b[0m\n",
            "\u001b[0;32m/usr/local/lib/python3.7/dist-packages/tweepy/client.py\u001b[0m in \u001b[0;36m_make_request\u001b[0;34m(self, method, route, params, endpoint_parameters, json, data_type, user_auth)\u001b[0m\n\u001b[1;32m    117\u001b[0m \u001b[0;34m\u001b[0m\u001b[0m\n\u001b[1;32m    118\u001b[0m         response = self.request(method, route, params=request_params,\n\u001b[0;32m--> 119\u001b[0;31m                                 json=json, user_auth=user_auth)\n\u001b[0m\u001b[1;32m    120\u001b[0m \u001b[0;34m\u001b[0m\u001b[0m\n\u001b[1;32m    121\u001b[0m         \u001b[0;32mif\u001b[0m \u001b[0mself\u001b[0m\u001b[0;34m.\u001b[0m\u001b[0mreturn_type\u001b[0m \u001b[0;32mis\u001b[0m \u001b[0mrequests\u001b[0m\u001b[0;34m.\u001b[0m\u001b[0mResponse\u001b[0m\u001b[0;34m:\u001b[0m\u001b[0;34m\u001b[0m\u001b[0;34m\u001b[0m\u001b[0m\n",
            "\u001b[0;32m/usr/local/lib/python3.7/dist-packages/tweepy/client.py\u001b[0m in \u001b[0;36mrequest\u001b[0;34m(self, method, route, params, json, user_auth)\u001b[0m\n\u001b[1;32m    104\u001b[0m                     \u001b[0;32mreturn\u001b[0m \u001b[0mself\u001b[0m\u001b[0;34m.\u001b[0m\u001b[0mrequest\u001b[0m\u001b[0;34m(\u001b[0m\u001b[0mmethod\u001b[0m\u001b[0;34m,\u001b[0m \u001b[0mroute\u001b[0m\u001b[0;34m,\u001b[0m \u001b[0mparams\u001b[0m\u001b[0;34m,\u001b[0m \u001b[0mjson\u001b[0m\u001b[0;34m,\u001b[0m \u001b[0muser_auth\u001b[0m\u001b[0;34m)\u001b[0m\u001b[0;34m\u001b[0m\u001b[0;34m\u001b[0m\u001b[0m\n\u001b[1;32m    105\u001b[0m                 \u001b[0;32melse\u001b[0m\u001b[0;34m:\u001b[0m\u001b[0;34m\u001b[0m\u001b[0;34m\u001b[0m\u001b[0m\n\u001b[0;32m--> 106\u001b[0;31m                     \u001b[0;32mraise\u001b[0m \u001b[0mTooManyRequests\u001b[0m\u001b[0;34m(\u001b[0m\u001b[0mresponse\u001b[0m\u001b[0;34m)\u001b[0m\u001b[0;34m\u001b[0m\u001b[0;34m\u001b[0m\u001b[0m\n\u001b[0m\u001b[1;32m    107\u001b[0m             \u001b[0;32mif\u001b[0m \u001b[0mresponse\u001b[0m\u001b[0;34m.\u001b[0m\u001b[0mstatus_code\u001b[0m \u001b[0;34m>=\u001b[0m \u001b[0;36m500\u001b[0m\u001b[0;34m:\u001b[0m\u001b[0;34m\u001b[0m\u001b[0;34m\u001b[0m\u001b[0m\n\u001b[1;32m    108\u001b[0m                 \u001b[0;32mraise\u001b[0m \u001b[0mTwitterServerError\u001b[0m\u001b[0;34m(\u001b[0m\u001b[0mresponse\u001b[0m\u001b[0;34m)\u001b[0m\u001b[0;34m\u001b[0m\u001b[0;34m\u001b[0m\u001b[0m\n",
            "\u001b[0;31mTooManyRequests\u001b[0m: 429 Too Many Requests"
          ]
        }
      ]
    },
    {
      "cell_type": "code",
      "source": [
        "#Number of Tweets (Total, Positive, Negative, Neutral)\n",
        "tweet_list = pd.DataFrame(tweet_list)\n",
        "neutral_list = pd.DataFrame(neutral_list)\n",
        "negative_list = pd.DataFrame(negative_list)\n",
        "positive_list = pd.DataFrame(positive_list)\n",
        "print(\"total number: \",len(tweet_list))\n",
        "print(\"positive number: \",len(positive_list))\n",
        "print(\"negative number: \", len(negative_list))\n",
        "print(\"neutral number: \",len(neutral_list))"
      ],
      "metadata": {
        "colab": {
          "base_uri": "https://localhost:8080/"
        },
        "id": "yvL1pjWvUhhV",
        "outputId": "adb5deb4-e8d1-4de9-994c-e87c5b9059dc"
      },
      "execution_count": null,
      "outputs": [
        {
          "output_type": "stream",
          "name": "stdout",
          "text": [
            "total number:  0\n",
            "positive number:  0\n",
            "negative number:  1\n",
            "neutral number:  0\n"
          ]
        }
      ]
    },
    {
      "cell_type": "code",
      "source": [
        "#Creating PieCart\n",
        "labels = ['Positive ['+str(positive)+'%]' , 'Neutral ['+str(neutral)+'%]','Negative ['+str(negative)+'%]']\n",
        "sizes = [positive, neutral, negative]\n",
        "colors = ['yellowgreen', 'blue','red']\n",
        "patches, texts = plt.pie(sizes,colors=colors, startangle=90)\n",
        "plt.style.use('default')\n",
        "plt.legend(labels)\n",
        "plt.title(\"Sentiment Analysis Result for keyword= \"+keyword+\"\" )\n",
        "plt.axis('equal')\n",
        "plt.show()"
      ],
      "metadata": {
        "colab": {
          "base_uri": "https://localhost:8080/",
          "height": 428
        },
        "id": "adnBAeMvVB0K",
        "outputId": "9096b18c-844d-4900-d9a4-8406109e5043"
      },
      "execution_count": null,
      "outputs": [
        {
          "output_type": "display_data",
          "data": {
            "image/png": "[encoded data removed]",
            "text/plain": [
              "<Figure size 640x480 with 1 Axes>"
            ]
          },
          "metadata": {}
        }
      ]
    },
    {
      "cell_type": "code",
      "source": [
        "file_name = 'tweet_scraped_data.csv'\n",
        "tweets_df.to_csv(file_name, encoding='utf-8', index=False)"
      ],
      "metadata": {
        "id": "qQCL5Rs7VRLF"
      },
      "execution_count": null,
      "outputs": []
    },
    {
      "cell_type": "code",
      "source": [
        "tweets = pd.read_csv(\"https://raw.githubusercontent.com/kolaveridi/kaggle-Twitter-US-Airline-Sentiment-/master/Tweets.csv\")\n",
        "file_name = 'tweet_scraped_data.csv'\n",
        "tweets.to_csv(file_name, encoding='utf-8', index=False)\n"
      ],
      "metadata": {
        "id": "EzdMUfNYZBhI"
      },
      "execution_count": null,
      "outputs": []
    },
    {
      "cell_type": "markdown",
      "metadata": {
        "id": "I9oXe-FD5Mhk"
      },
      "source": [
        "# References"
      ]
    },
    {
      "cell_type": "markdown",
      "metadata": {
        "id": "95UH_T4B5Mhm"
      },
      "source": [
        "[1] http://docs.tweepy.org/en/latest/api.html#status-methods\n",
        "[2] https://www.earthdatascience.org/courses/use-data-open-source-python/intro-to-apis/twitter-data-in-python/\n",
        "[3] https://towardsdatascience.com/how-to-scrape-tweets-from-twitter-59287e20f0f1\n",
        "[4] https://dev.to/twitterdev/a-comprehensive-guide-for-using-the-twitter-api-v2-using-tweepy-in-python-15d9"
      ]
    }
  ],
  "metadata": {
    "kernelspec": {
      "display_name": "Python [conda env:nlp]",
      "language": "python",
      "name": "conda-env-nlp-py"
    },
    "language_info": {
      "codemirror_mode": {
        "name": "ipython",
        "version": 3
      },
      "file_extension": ".py",
      "mimetype": "text/x-python",
      "name": "python",
      "nbconvert_exporter": "python",
      "pygments_lexer": "ipython3",
      "version": "3.8.5"
    },
    "colab": {
      "provenance": [],
      "collapsed_sections": []
    }
  },
  "nbformat": 4,
  "nbformat_minor": 0
}